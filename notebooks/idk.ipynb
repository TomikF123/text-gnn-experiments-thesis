{
 "cells": [
  {
   "cell_type": "code",
   "execution_count": 1,
   "metadata": {},
   "outputs": [],
   "source": [
    "from prepData import clean_data\n",
    "import pandas as pd \n",
    "\n"
   ]
  },
  {
   "cell_type": "code",
   "execution_count": 2,
   "metadata": {},
   "outputs": [],
   "source": [
    "ng = pd.read_csv('data/ng_20_all.csv')"
   ]
  },
  {
   "cell_type": "code",
   "execution_count": 3,
   "metadata": {},
   "outputs": [],
   "source": [
    "pd.set_option('display.max_colwidth', None)"
   ]
  },
  {
   "cell_type": "code",
   "execution_count": 4,
   "metadata": {},
   "outputs": [
    {
     "data": {
      "text/plain": [
       "text          I was wondering if anyone out there could enlighten me on this car I saw\\nthe other day. It was a 2-door sports car, looked to be from the late 60s/\\nearly 70s. It was called a Bricklin. The doors were really small. In addition,\\nthe front bumper was separate from the rest of the body. This is \\nall I know. If anyone can tellme a model name, engine specs, years\\nof production, where this car is made, history, or whatever info you\\nhave on this funky looking car, please e-mail.\n",
       "label                                                                                                                                                                                                                                                                                                                                                                                                                                                                                                         7\n",
       "label_text                                                                                                                                                                                                                                                                                                                                                                                                                                                                                            rec.autos\n",
       "Name: 0, dtype: object"
      ]
     },
     "execution_count": 4,
     "metadata": {},
     "output_type": "execute_result"
    }
   ],
   "source": [
    "ng.iloc[0]"
   ]
  },
  {
   "cell_type": "code",
   "execution_count": 5,
   "metadata": {},
   "outputs": [
    {
     "name": "stdout",
     "output_type": "stream",
     "text": [
      "Removing stopwords...\n"
     ]
    }
   ],
   "source": [
    "\n",
    "ng = clean_data(ng,remove_stop_words=True)\n"
   ]
  },
  {
   "cell_type": "code",
   "execution_count": 6,
   "metadata": {},
   "outputs": [
    {
     "data": {
      "text/plain": [
       "text          [wondering, anyone, could, enlighten, car, saw, day, 2, door, sports, car, looked, late, 60s, early, 70s, called, bricklin, doors, really, small, addition, front, bumper, separate, rest, body, know, anyone, tellme, model, name, engine, specs, years, production, car, made, history, whatever, info, funky, looking, car, please, e, mail]\n",
       "label                                                                                                                                                                                                                                                                                                                                                       7\n",
       "label_text                                                                                                                                                                                                                                                                                                                                          rec.autos\n",
       "Name: 0, dtype: object"
      ]
     },
     "execution_count": 6,
     "metadata": {},
     "output_type": "execute_result"
    }
   ],
   "source": [
    "ng.iloc[0]"
   ]
  },
  {
   "cell_type": "code",
   "execution_count": 7,
   "metadata": {},
   "outputs": [],
   "source": [
    "# from utils import get_data_path\n",
    "# import nltk\n",
    "# def remove_stop_words(df:pd.Series)->pd.Series:\n",
    "#     nltk.data.path.append(get_data_path())\n",
    "#     from nltk.corpus import stopwords\n",
    "#     stop_words = set(stopwords.words(\"english\"))\n",
    "#     return df.apply(lambda x: [word for word in x if word not in stop_words])"
   ]
  },
  {
   "cell_type": "code",
   "execution_count": 8,
   "metadata": {},
   "outputs": [],
   "source": [
    "# df = ng.copy()\n",
    "# text_col = 'text'\n",
    "# remove_stop_words = True\n",
    "# if remove_stop_words:\n",
    "#     df[f\"{text_col}\"] = remove_stop_words(df[f\"{text_col}\"])  \n",
    "\n",
    "# df.iloc[0]"
   ]
  }
 ],
 "metadata": {
  "kernelspec": {
   "display_name": "env",
   "language": "python",
   "name": "python3"
  },
  "language_info": {
   "codemirror_mode": {
    "name": "ipython",
    "version": 3
   },
   "file_extension": ".py",
   "mimetype": "text/x-python",
   "name": "python",
   "nbconvert_exporter": "python",
   "pygments_lexer": "ipython3",
   "version": "3.10.13"
  },
  "orig_nbformat": 4
 },
 "nbformat": 4,
 "nbformat_minor": 2
}
